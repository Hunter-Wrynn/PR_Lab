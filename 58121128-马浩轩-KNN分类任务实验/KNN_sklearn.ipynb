{
 "cells": [
  {
   "cell_type": "code",
   "execution_count": 2,
   "id": "a3cd240e",
   "metadata": {},
   "outputs": [],
   "source": [
    "from sklearn import datasets\n",
    "import numpy as np\n",
    "from sklearn.neighbors import KNeighborsClassifier\n",
    "import pandas as pd\n",
    "import warnings\n",
    "warnings.filterwarnings(\"ignore\")"
   ]
  },
  {
   "cell_type": "code",
   "execution_count": 3,
   "id": "44988acc",
   "metadata": {},
   "outputs": [],
   "source": [
    "# 读入数据\n",
    "train_df = pd.read_csv(\"./data/train.csv\",header = 0)\n",
    "val_df = pd.read_csv(\"./data/val.csv\",header = 0)\n",
    "test_df = pd.read_csv(\"./data/test_data.csv\",header = 0)\n",
    "\n",
    "train = np.array(train_df)\n",
    "train_x = train[:,:-1]\n",
    "train_y = train[:,-1]\n",
    "\n",
    "val = np.array(val_df)\n",
    "val_x = val[:,:-1]\n",
    "val_y = val[:,-1]\n",
    "\n",
    "test = np.array(test_df)"
   ]
  },
  {
   "cell_type": "code",
   "execution_count": 4,
   "id": "ffbd1486",
   "metadata": {},
   "outputs": [
    {
     "data": {
      "text/plain": [
       "KNeighborsClassifier(n_neighbors=17)"
      ]
     },
     "execution_count": 4,
     "metadata": {},
     "output_type": "execute_result"
    }
   ],
   "source": [
    "# KNN 算法使用 得到最佳K\n",
    "knn = KNeighborsClassifier(n_neighbors=17)\n",
    "knn.fit(train_x, train_y)"
   ]
  },
  {
   "cell_type": "code",
   "execution_count": 5,
   "id": "5beb4fef",
   "metadata": {},
   "outputs": [
    {
     "name": "stdout",
     "output_type": "stream",
     "text": [
      "the accruacy for using sklearn: 0.9333333333333333\n"
     ]
    }
   ],
   "source": [
    "# 观察sklearn分类的准确率\n",
    "val_predict = knn.predict(val_x)\n",
    "correct = [val_predict==val_y]\n",
    "print(\"the accruacy for using sklearn:\",np.mean(np.array(correct,dtype=float)))"
   ]
  },
  {
   "cell_type": "code",
   "execution_count": 6,
   "id": "ecc158a3",
   "metadata": {
    "scrolled": true
   },
   "outputs": [
    {
     "name": "stdout",
     "output_type": "stream",
     "text": [
      "[2 1 0 2 0 2 0 1 1 1 2 1 1 1 1 0 1 1 0 0 2 1 0 0 2 0 0 1 1 0 2 1 0 2 2 1 0\n",
      " 2]\n",
      "[2 1 0 2 0 2 0 1 1 1 2 1 1 1 1 0 1 1 0 0 2 1 0 0 2 0 0 1 1 0 2 1 0 2 2 1 0\n",
      " 2]\n",
      "task-1 is the same as the package KNN pridiction: 1.0\n"
     ]
    }
   ],
   "source": [
    "# 比较自己设计的模型及库中现成KNN模型 对test的预测效果-task1\n",
    "\n",
    "y_predict = knn.predict(test)\n",
    "print(np.array(y_predict,dtype = int))\n",
    "\n",
    "my_predict = pd.read_csv('mypredicsion_csv/task1_test_Chebyshev(扩展).csv').iloc[:,-1]\n",
    "print(np.array(my_predict,dtype=int))\n",
    "same= [my_predict==y_predict]\n",
    "print(\"task-1 is the same as the package KNN pridiction:\",(np.array(same,dtype = float).sum()/len(y_predict)).round(4))"
   ]
  },
  {
   "cell_type": "code",
   "execution_count": 7,
   "id": "7b6c89aa",
   "metadata": {},
   "outputs": [
    {
     "name": "stdout",
     "output_type": "stream",
     "text": [
      "[2 1 0 2 0 2 0 1 1 1 2 1 1 1 1 0 1 1 0 0 2 1 0 0 2 0 0 1 1 0 2 1 0 2 2 1 0\n",
      " 2]\n",
      "[2 1 0 2 0 2 0 1 1 1 2 1 1 1 1 0 1 1 0 0 1 1 0 0 1 0 0 1 0 0 2 1 0 1 2 1 0\n",
      " 1]\n",
      "my prediction is the same as the package KNN pridiction: 0.8684\n"
     ]
    }
   ],
   "source": [
    "# 比较自己设计的模型及库中现成KNN模型 对test的预测效果-task2\n",
    "\n",
    "y_predict = knn.predict(test)\n",
    "print(np.array(y_predict,dtype = int))\n",
    "\n",
    "my_predict = pd.read_csv('mypredicsion_csv/task2_test_prediction.csv').iloc[:,-1]\n",
    "print(np.array(my_predict,dtype=int))\n",
    "same= [my_predict==y_predict]\n",
    "print(\"my prediction is the same as the package KNN pridiction:\",(np.array(same,dtype = float).sum()/len(y_predict)).round(4))"
   ]
  },
  {
   "cell_type": "code",
   "execution_count": 8,
   "id": "785b26f5",
   "metadata": {},
   "outputs": [
    {
     "name": "stdout",
     "output_type": "stream",
     "text": [
      "[2 1 0 2 0 2 0 1 1 1 2 1 1 1 1 0 1 1 0 0 2 1 0 0 2 0 0 1 1 0 2 1 0 2 2 1 0\n",
      " 2]\n",
      "[2 1 0 2 0 2 0 1 1 1 2 1 1 1 1 0 1 1 0 0 2 1 0 0 2 0 0 1 1 0 2 1 0 2 2 1 0\n",
      " 2]\n",
      "task-2 is the same as the package KNN pridiction: 1.0\n"
     ]
    }
   ],
   "source": [
    "# mindspore模型及库中现成KNN模型 对test的预测效果-task3\n",
    "\n",
    "y_predict = knn.predict(test)\n",
    "print(np.array(y_predict,dtype = int))\n",
    "\n",
    "my_predict = pd.read_csv('mypredicsion_csv/task3_test_prediction.csv').iloc[:,-1]\n",
    "print(np.array(my_predict,dtype=int))\n",
    "same= [my_predict==y_predict]\n",
    "print(\"task-2 is the same as the package KNN pridiction:\",(np.array(same,dtype = float).sum()/len(y_predict)).round(4))"
   ]
  },
  {
   "cell_type": "code",
   "execution_count": null,
   "id": "5979f305",
   "metadata": {},
   "outputs": [],
   "source": []
  }
 ],
 "metadata": {
  "kernelspec": {
   "display_name": "Python 3 (ipykernel)",
   "language": "python",
   "name": "python3"
  },
  "language_info": {
   "codemirror_mode": {
    "name": "ipython",
    "version": 3
   },
   "file_extension": ".py",
   "mimetype": "text/x-python",
   "name": "python",
   "nbconvert_exporter": "python",
   "pygments_lexer": "ipython3",
   "version": "3.9.13"
  }
 },
 "nbformat": 4,
 "nbformat_minor": 5
}
