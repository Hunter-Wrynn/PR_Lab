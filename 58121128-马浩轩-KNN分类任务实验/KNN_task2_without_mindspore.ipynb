{
 "cells": [
  {
   "cell_type": "code",
   "execution_count": 1,
   "id": "d9deceaa",
   "metadata": {},
   "outputs": [],
   "source": [
    "import numpy as np\n",
    "import pandas as pd\n",
    "import matplotlib.pylab as plt\n",
    "import math"
   ]
  },
  {
   "cell_type": "code",
   "execution_count": 2,
   "id": "5d29422a",
   "metadata": {},
   "outputs": [],
   "source": [
    "#读入数据\n",
    "train_data=pd.read_csv('data/train.csv',header = 0)#训练集\n",
    "val_data=pd.read_csv('data/val.csv',header = 0)#验证集\n",
    "test_data=pd.read_csv('data/test_data.csv',header = 0)#测试集\n",
    "\n",
    "#读取数据长度\n",
    "Length_train_data=train_data.shape[0]\n",
    "Length_test_data=test_data.shape[0]\n",
    "\n",
    "#存储测试集label\n",
    "train_data_label=train_data.iloc[:,-1]\n",
    "\n",
    "#分开存放鸢尾花label为0、1、2的数据\n",
    "data_for_label_0 = train_data.loc[train_data['label'] == 0,:]\n",
    "data_for_label_1 = train_data.loc[train_data['label'] == 1,:]\n",
    "data_for_label_2 = train_data.loc[train_data['label'] == 2,:]"
   ]
  },
  {
   "cell_type": "markdown",
   "id": "d3c2d729",
   "metadata": {},
   "source": [
    "$$D = \\sqrt{(x - \\mu)^T A^{T} \\cdot A (x - \\mu)}$$\n"
   ]
  },
  {
   "cell_type": "code",
   "execution_count": 3,
   "id": "d32ff5ec",
   "metadata": {},
   "outputs": [],
   "source": [
    "#任务2距离改为马氏距离\n",
    "#公式如上\n",
    "\n",
    "def mahalanobisDistance(val_data,train_data,val_dot,train_dot,A):\n",
    "    D=0\n",
    "    xi=(train_data.loc[train_dot,['Sepal Length','Sepal Width','Petal Length','Petal Width']])\n",
    "    xj=(val_data.loc[val_dot,['Sepal Length','Sepal Width','Petal Length','Petal Width']])\n",
    "    D=np.dot(np.dot(np.dot(np.transpose(xi-xj),np.transpose(A)),A),(xi-xj))\n",
    "    D=D**0.5\n",
    "    return D"
   ]
  },
  {
   "cell_type": "code",
   "execution_count": 4,
   "id": "eb66313e",
   "metadata": {},
   "outputs": [],
   "source": [
    "#按照实验报告中所述对A进行推导计算\n",
    "def trainA(train_data,data_for_label_0,data_for_label_1,data_for_label_2):\n",
    "    print(\"------------ start training A ------------\")\n",
    "    learning_rate=0.005#学习率\n",
    "    times=15#学习过程中的迭代次数\n",
    "    A=np.ones([2,4])#e为2，特征维度为4\n",
    "    for time in range(times):\n",
    "        #print(time)\n",
    "        grad=np.zeros([4,4])\n",
    "        for i in range(train_data.shape[0]):\n",
    "            data=(train_data.loc[i,['Sepal Length','Sepal Width','Petal Length','Petal Width']])\n",
    "            label=train_data['label'][i]\n",
    "            d1=[] # 存储样本与各类别数据的马氏距离的平方\n",
    "            d2=[] # 存储样本与各类别数据的欧氏距离的平方\n",
    "            \n",
    "            # 计算样本与label=0的数据之间的马氏距离和欧氏距离\n",
    "            for j in range(len(data_for_label_0)):\n",
    "                array_for_DV=np.array(range(1,5)).reshape(4,1)\n",
    "                for a in range(4):\n",
    "                    np.array(range(1,5)).reshape(4,1)\n",
    "                    array_for_DV[a][0]=data[a]-data_for_label_0.iloc[j,a]#\n",
    "                d2.append(np.dot(array_for_DV,np.transpose(array_for_DV)))\n",
    "                d1.append(np.dot(np.transpose(np.dot(A,array_for_DV)),np.dot(A,array_for_DV))[0][0])\n",
    "                \n",
    "            # 计算样本与label=1的数据之间的马氏距离和欧氏距离\n",
    "            for j in range(len(data_for_label_1)):\n",
    "                array_for_DV=np.array(range(1,5)).reshape(4,1)\n",
    "                for a in range(4):\n",
    "                    array_for_DV[a][0]=(data[a]-data_for_label_1.iloc[j,a])\n",
    "                d2.append(np.dot(array_for_DV,np.transpose(array_for_DV)))\n",
    "                d1.append(np.dot(np.transpose(np.dot(A,array_for_DV)),np.dot(A,array_for_DV))[0][0]) \n",
    "            \n",
    "            # 计算样本与label=2的数据之间的马氏距离和欧氏距离\n",
    "            for j in range(len(data_for_label_2)):\n",
    "                array_for_DV=np.array(range(1,5)).reshape(4,1)\n",
    "                for a in range(4):\n",
    "                    array_for_DV[a][0]=(data[a]-data_for_label_2.iloc[j,a])\n",
    "                d2.append(np.dot(array_for_DV,np.transpose(array_for_DV)))\n",
    "                d1.append(np.dot(np.transpose(np.dot(A,array_for_DV)),np.dot(A,array_for_DV))[0][0])\n",
    "            \n",
    "            #利用梯度下降法求解A\n",
    "            sum_denominator=0 # softmax 分母部分\n",
    "            for n in range(len(d1)):\n",
    "                sum_denominator=sum_denominator+math.exp(-d1[n])\n",
    "            sum1=np.zeros([4,4])  # 初始化梯度矩阵的第一部分和\n",
    "            for n in range(len(d1)):\n",
    "                if d1[n]!=0:\n",
    "                    pik=math.exp(-d1[n])/sum_denominator # softmax\n",
    "                    sum1=sum1+pik*d2[n]\n",
    "\n",
    "            pi=0\n",
    "            for n in range(len(d1)):\n",
    "                if d1[n]!=0:\n",
    "                    pik=math.exp(-d1[n])/sum_denominator\n",
    "                    pi=sum1+pik\n",
    "            sum1=sum1*pi\n",
    "            ci_list=[]\n",
    "            if label==0:\n",
    "                ci_list=data_for_label_0\n",
    "            elif label==1:\n",
    "                ci_list=data_for_label_1\n",
    "            d_ci=[]   \n",
    "            dd_ci=[]\n",
    "            for j in range(len(ci_list)):\n",
    "                array_for_DV=np.array(range(1,5)).reshape(4,1)\n",
    "                for a in range(4):\n",
    "                    array_for_DV[a][0]=(data[a]-ci_list.iloc[j,a])\n",
    "                dd_ci.append(np.dot(array_for_DV,np.transpose(array_for_DV)))\n",
    "                B=np.dot(A,array_for_DV)\n",
    "                B_trans=np.transpose(B)\n",
    "                d_ci.append(np.dot(B_trans,B)[0][0])\n",
    "            sum2=np.zeros([4,4]) # 初始化梯度矩阵的第二部分和\n",
    "            for ac in range(len(d_ci)):\n",
    "                if d_ci[ac]!=0:\n",
    "                    pij=math.exp(-d_ci[ac])/sum_denominator\n",
    "                    sum2=sum2+pij*dd_ci[ac]\n",
    "            grad=grad+sum1-sum2  # 计算梯度\n",
    "        A=A+learning_rate*2*np.dot(A,grad)  # 更新A\n",
    "        print(\"epoch [\"+str(time+1)+\"/15]\")\n",
    "    return A"
   ]
  },
  {
   "cell_type": "code",
   "execution_count": 5,
   "id": "4ea9ed53",
   "metadata": {},
   "outputs": [
    {
     "name": "stdout",
     "output_type": "stream",
     "text": [
      "------------ start training A ------------\n",
      "epoch [1/15]\n",
      "epoch [2/15]\n",
      "epoch [3/15]\n",
      "epoch [4/15]\n",
      "epoch [5/15]\n",
      "epoch [6/15]\n",
      "epoch [7/15]\n",
      "epoch [8/15]\n",
      "epoch [9/15]\n",
      "epoch [10/15]\n",
      "epoch [11/15]\n",
      "epoch [12/15]\n",
      "epoch [13/15]\n",
      "epoch [14/15]\n",
      "epoch [15/15]\n",
      "[[0.91520147 1.74631304 1.83332099 1.00006676]\n",
      " [0.91520147 1.74631304 1.83332099 1.00006676]]\n"
     ]
    }
   ],
   "source": [
    "A=trainA(train_data,data_for_label_0,data_for_label_1,data_for_label_2)\n",
    "print(A)"
   ]
  },
  {
   "cell_type": "code",
   "execution_count": 6,
   "id": "7afe2ca3",
   "metadata": {},
   "outputs": [],
   "source": [
    "def predict(k,distance,train_data_label):\n",
    "    dict_of_distance=dict(zip(distance,train_data_label))#字典\n",
    "    order=sorted(dict_of_distance.items(),key=lambda x:x[0])#排序\n",
    "    #前k小的距离\n",
    "    temp=[]\n",
    "    for i in range(k):\n",
    "        temp.append(order[i][1])\n",
    "    vote=[0,0,0]#不同标签的数目\n",
    "    for i in range(k):\n",
    "        vote[temp[i]]+=1\n",
    "    result=vote.index(max(vote))#选择数目较多的类别作为最终类别\n",
    "    return result"
   ]
  },
  {
   "cell_type": "code",
   "execution_count": 7,
   "id": "7b861419",
   "metadata": {},
   "outputs": [],
   "source": [
    "def best_k(train_data,val_data,train_data_label,A):\n",
    "    result_k=[]#存放不同k值下的正确率\n",
    "    max_k=25\n",
    "    for k in range(1,max_k):\n",
    "        counter_correct=0#分类正确的数目\n",
    "        for j in range(val_data.shape[0]):#在验证集中验证（验证集有15个数据）\n",
    "            label=val_data['label'][j]\n",
    "            distance=[]#训练集中所有点到验证集第j个点的距离     \n",
    "            for i in range(0,train_data.shape[0]):\n",
    "                distance.append(mahalanobisDistance(val_data,train_data,j,i,A))#马氏距离\n",
    "            result=predict(k,distance,train_data_label)    #预测类别     \n",
    "            if label==result:\n",
    "                counter_correct+=1\n",
    "        result_k.append(counter_correct/val_data.shape[0])#计算k的正确率\n",
    "        print(\"the accuracy for k=\"+str(k)+\" is \"+str(counter_correct/val_data.shape[0]))\n",
    "    plt.plot(list(range(1,max_k)),result_k)\n",
    "    plt.xlabel('k')\n",
    "    plt.ylabel('Accuracy')\n",
    "    plt.title('finding the best k')\n",
    "    plt.show()#绘制不同的k对应的正确率"
   ]
  },
  {
   "cell_type": "code",
   "execution_count": 8,
   "id": "2e290d02",
   "metadata": {
    "scrolled": false
   },
   "outputs": [
    {
     "name": "stdout",
     "output_type": "stream",
     "text": [
      "the accuracy for k=1 is 0.8666666666666667\n",
      "the accuracy for k=2 is 0.9333333333333333\n",
      "the accuracy for k=3 is 0.9333333333333333\n",
      "the accuracy for k=4 is 0.9333333333333333\n",
      "the accuracy for k=5 is 0.9333333333333333\n",
      "the accuracy for k=6 is 0.9333333333333333\n",
      "the accuracy for k=7 is 0.9333333333333333\n",
      "the accuracy for k=8 is 0.9333333333333333\n",
      "the accuracy for k=9 is 0.9333333333333333\n",
      "the accuracy for k=10 is 0.9333333333333333\n",
      "the accuracy for k=11 is 0.8666666666666667\n",
      "the accuracy for k=12 is 0.9333333333333333\n",
      "the accuracy for k=13 is 0.8666666666666667\n",
      "the accuracy for k=14 is 0.8666666666666667\n",
      "the accuracy for k=15 is 0.8666666666666667\n",
      "the accuracy for k=16 is 0.9333333333333333\n",
      "the accuracy for k=17 is 0.9333333333333333\n",
      "the accuracy for k=18 is 0.9333333333333333\n",
      "the accuracy for k=19 is 0.8666666666666667\n",
      "the accuracy for k=20 is 0.8666666666666667\n",
      "the accuracy for k=21 is 0.8666666666666667\n",
      "the accuracy for k=22 is 0.8666666666666667\n",
      "the accuracy for k=23 is 0.8666666666666667\n",
      "the accuracy for k=24 is 0.8666666666666667\n"
     ]
    },
    {
     "data": {
      "image/png": "[encoded data removed]",
      "text/plain": [
       "<Figure size 640x480 with 1 Axes>"
      ]
     },
     "metadata": {},
     "output_type": "display_data"
    }
   ],
   "source": [
    "best_k(train_data,val_data,train_data_label,A)"
   ]
  },
  {
   "cell_type": "code",
   "execution_count": 11,
   "id": "e745a456",
   "metadata": {},
   "outputs": [
    {
     "name": "stdout",
     "output_type": "stream",
     "text": [
      "mahalanobis done\n"
     ]
    }
   ],
   "source": [
    "result_test=[]\n",
    "#经选取k=17\n",
    "k=17\n",
    "for j in range(0,Length_test_data):#测试集\n",
    "    distance_test=[]#存储马氏距离\n",
    "    for i in range(Length_train_data):#求解距离训练集中其他点的距离           \n",
    "        distance_test.append(mahalanobisDistance(test_data,train_data,j,i,A))\n",
    "    a=predict(k,distance_test,train_data_label)\n",
    "    result_test.append(a)    \n",
    "    \n",
    "test_mahalanobis=pd.DataFrame(result_test, columns=['label'])\n",
    "\n",
    "print(\"mahalanobis done\")\n",
    "test_mahalanobis.to_csv('mypredicsion_csv/task2_test_prediction.csv',index=0)\n",
    "#用于可视化\n",
    "test_euclidean_for_visual=pd.DataFrame(np.column_stack((test_data,result_test)),columns\n",
    "    =['Sepal Length','Sepal Width','Petal Length','Petal Width','My prediction'])\n",
    "\n",
    "test_euclidean_for_visual.to_csv('mypredicsion_csv/for visual/task2_test_prediction.csv',index=0)"
   ]
  },
  {
   "cell_type": "code",
   "execution_count": null,
   "id": "d37efd5f",
   "metadata": {},
   "outputs": [],
   "source": []
  }
 ],
 "metadata": {
  "kernelspec": {
   "display_name": "Python 3 (ipykernel)",
   "language": "python",
   "name": "python3"
  },
  "language_info": {
   "codemirror_mode": {
    "name": "ipython",
    "version": 3
   },
   "file_extension": ".py",
   "mimetype": "text/x-python",
   "name": "python",
   "nbconvert_exporter": "python",
   "pygments_lexer": "ipython3",
   "version": "3.9.13"
  }
 },
 "nbformat": 4,
 "nbformat_minor": 5
}
