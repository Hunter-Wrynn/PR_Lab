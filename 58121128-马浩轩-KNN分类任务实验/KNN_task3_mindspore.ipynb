{
 "cells": [
  {
   "cell_type": "code",
   "execution_count": 1,
   "id": "a04968ab",
   "metadata": {},
   "outputs": [],
   "source": [
    "import os\n",
    "import csv\n",
    "import numpy as np\n",
    "import pandas as pd\n",
    "\n",
    "import mindspore as ms\n",
    "from mindspore import context\n",
    "from mindspore import nn\n",
    "from mindspore.ops import operations as ops\n",
    "from mindspore.ops import functional as F\n",
    "\n",
    "context.set_context(device_target=\"CPU\")"
   ]
  },
  {
   "cell_type": "code",
   "execution_count": 2,
   "id": "cfd4d6a7",
   "metadata": {},
   "outputs": [],
   "source": [
    "#读取数据\n",
    "with open('data/train.csv') as csv_file:\n",
    "    data = list(csv.reader(csv_file))\n",
    "X_train = np.array([[float(x) for x in s[0:4]] for s in data[1:]], np.float32)\n",
    "Y_train = np.array([s[4] for s in data[1:]], np.int32)\n",
    "\n",
    "with open('data/val.csv') as csv_file:\n",
    "    data_val = list(csv.reader(csv_file))\n",
    "X_val = np.array([[float(x) for x in s[0:4]] for s in data_val[1:]], np.float32)\n",
    "Y_val = np.array([s[4] for s in data_val[1:]], np.int32)\n",
    "\n",
    "with open('data/test_data.csv') as csv_file:\n",
    "    data_test = list(csv.reader(csv_file))\n",
    "X_test = np.array([[float(x) for x in s] for s in data_test[1:]], np.float32)"
   ]
  },
  {
   "cell_type": "code",
   "execution_count": 3,
   "id": "ec795074",
   "metadata": {},
   "outputs": [],
   "source": [
    "#利用MindSpore提供的tile, suqare, ReduceSum, sqrt, TopK等算子\n",
    "#通过矩阵运算的方式同时计算输入样本x和已明确分类的其他样本X_train的距离，并计算出top k近邻\n",
    "class KnnNet(nn.Cell):\n",
    "    def __init__(self, k):\n",
    "        super(KnnNet, self).__init__()\n",
    "        self.tile = ops.Tile()  # 复制输入张量\n",
    "        self.sum = ops.ReduceSum()  # 指定维度求和\n",
    "        self.topk = ops.TopK()  # 获取最大的 K 个值及其索引\n",
    "        self.k = k  \n",
    "    def construct(self, x, X_train):\n",
    "        x_tile = self.tile(x, (97, 1))# 将输入 x 复制以匹配 X_train 样本数\n",
    "        square_diff = F.square(x_tile - X_train)\n",
    "        square_dist = self.sum(square_diff, 1)\n",
    "        dist = F.sqrt(square_dist)\n",
    "        values, indices = self.topk(-dist, self.k)# 获取最大的 K 个值及其索引\n",
    "        return indices\n",
    "\n",
    "def knn(knn_net, x, X_train, Y_train):\n",
    "    x, X_train = ms.Tensor(x), ms.Tensor(X_train)\n",
    "    indices = knn_net(x, X_train)\n",
    "    topk_cls = [0]*len(indices.asnumpy())\n",
    "    for idx in indices.asnumpy():\n",
    "        topk_cls[Y_train[idx]] += 1\n",
    "    cls = np.argmax(topk_cls)\n",
    "    return cls"
   ]
  },
  {
   "cell_type": "code",
   "execution_count": 4,
   "id": "74a2a9a3",
   "metadata": {},
   "outputs": [
    {
     "name": "stdout",
     "output_type": "stream",
     "text": [
      "test 1 label: 1, prediction: 1\n",
      "test 2 label: 2, prediction: 2\n",
      "test 3 label: 2, prediction: 2\n",
      "test 4 label: 0, prediction: 0\n",
      "test 5 label: 1, prediction: 1\n",
      "test 6 label: 1, prediction: 1\n",
      "test 7 label: 1, prediction: 1\n",
      "test 8 label: 1, prediction: 1\n",
      "test 9 label: 0, prediction: 0\n",
      "test 10 label: 0, prediction: 0\n",
      "test 11 label: 0, prediction: 0\n",
      "test 12 label: 2, prediction: 2\n",
      "test 13 label: 1, prediction: 1\n",
      "test 14 label: 2, prediction: 2\n",
      "test 15 label: 0, prediction: 0\n",
      "Validation accuracy is 1.000000\n"
     ]
    }
   ],
   "source": [
    "#对验证集预测，得出准确率\n",
    "acc = 0\n",
    "knn_net = KnnNet(5)\n",
    "times=0\n",
    "for x, y in zip(X_val, Y_val):\n",
    "    times+=1\n",
    "    pred = knn(knn_net, x, X_train, Y_train)\n",
    "    acc += (pred == y)\n",
    "\n",
    "    print('test '+str(times)+' label: %d, prediction: %s' % (y, pred))\n",
    "print('Validation accuracy is %f' % (acc/len(Y_val)))"
   ]
  },
  {
   "cell_type": "code",
   "execution_count": 9,
   "id": "2d894423",
   "metadata": {},
   "outputs": [
    {
     "name": "stdout",
     "output_type": "stream",
     "text": [
      "prediction: 2\n",
      "prediction: 1\n",
      "prediction: 0\n",
      "prediction: 2\n",
      "prediction: 0\n",
      "prediction: 2\n",
      "prediction: 0\n",
      "prediction: 1\n",
      "prediction: 1\n",
      "prediction: 1\n",
      "prediction: 2\n",
      "prediction: 1\n",
      "prediction: 1\n",
      "prediction: 1\n",
      "prediction: 1\n",
      "prediction: 0\n",
      "prediction: 1\n",
      "prediction: 1\n",
      "prediction: 0\n",
      "prediction: 0\n",
      "prediction: 2\n",
      "prediction: 1\n",
      "prediction: 0\n",
      "prediction: 0\n",
      "prediction: 2\n",
      "prediction: 0\n",
      "prediction: 0\n",
      "prediction: 1\n",
      "prediction: 1\n",
      "prediction: 0\n",
      "prediction: 2\n",
      "prediction: 1\n",
      "prediction: 0\n",
      "prediction: 2\n",
      "prediction: 2\n",
      "prediction: 1\n",
      "prediction: 0\n",
      "prediction: 2\n",
      "mindspore done\n"
     ]
    }
   ],
   "source": [
    "#预测数据集\n",
    "acc = 0\n",
    "result=[]\n",
    "test_data=pd.read_csv('data/test_data.csv',header = 0)#测试集\n",
    "knn_net = KnnNet(5)\n",
    "for x in zip(X_test):\n",
    "    pred = knn(knn_net, x, X_train, Y_train)\n",
    "    result.append(pred)\n",
    "    print('prediction: %d' % (pred))\n",
    "test_mindspore=pd.DataFrame(result, columns=['label'])\n",
    "\n",
    "print(\"mindspore done\")\n",
    "test_mindspore.to_csv('mypredicsion_csv/task3_test_prediction.csv',index=0)\n",
    "#用于可视化\n",
    "test_euclidean_for_visual=pd.DataFrame(np.column_stack((test_data,result)),columns\n",
    "    =['Sepal Length','Sepal Width','Petal Length','Petal Width','My prediction'])\n",
    "\n",
    "test_euclidean_for_visual.to_csv('mypredicsion_csv/for visual/task3_test_prediction.csv',index=0)"
   ]
  }
 ],
 "metadata": {
  "kernelspec": {
   "display_name": "Python 3 (ipykernel)",
   "language": "python",
   "name": "python3"
  },
  "language_info": {
   "codemirror_mode": {
    "name": "ipython",
    "version": 3
   },
   "file_extension": ".py",
   "mimetype": "text/x-python",
   "name": "python",
   "nbconvert_exporter": "python",
   "pygments_lexer": "ipython3",
   "version": "3.9.13"
  }
 },
 "nbformat": 4,
 "nbformat_minor": 5
}
