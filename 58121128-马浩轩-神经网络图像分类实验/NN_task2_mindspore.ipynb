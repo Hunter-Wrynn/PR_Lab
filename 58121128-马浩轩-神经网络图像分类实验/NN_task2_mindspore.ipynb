{
 "cells": [
  {
   "cell_type": "code",
   "execution_count": 1,
   "id": "712eb5d2",
   "metadata": {},
   "outputs": [],
   "source": [
    "import os\n",
    "import numpy as np \n",
    "import struct\n",
    "import warnings\n",
    "import matplotlib.pyplot as plt\n",
    "warnings.filterwarnings('ignore')\n",
    "from mindvision.dataset import Mnist\n",
    "from mindvision.classification.models import lenet\n",
    "import mindspore.nn as nn\n",
    "\n",
    "from mindspore.train.callback import ModelCheckpoint, CheckpointConfig\n",
    "\n",
    "from mindvision.engine.callback import LossMonitor\n",
    "from mindspore.train import Model\n"
   ]
  },
  {
   "cell_type": "code",
   "execution_count": 2,
   "id": "c148aa82",
   "metadata": {},
   "outputs": [
    {
     "name": "stderr",
     "output_type": "stream",
     "text": [
      "9913344B [00:00, 13578481.64B/s]                              \n",
      "29696B [00:00, 4242159.72B/s]           \n",
      "1649664B [00:00, 3609769.80B/s]                             \n",
      "5120B [00:00, 5094860.37B/s]           \n",
      "[WARNING] ME(4016:2820,MainProcess):2023-06-05-11:10:57.570.545 [mindspore\\dataset\\core\\validator_helpers.py:806] 'Resize' from mindspore.dataset.vision.c_transforms is deprecated from version 1.8 and will be removed in a future version. Use 'Resize' from mindspore.dataset.vision instead.\n",
      "[WARNING] ME(4016:2820,MainProcess):2023-06-05-11:10:57.571.539 [mindspore\\dataset\\core\\validator_helpers.py:806] 'Rescale' from mindspore.dataset.vision.c_transforms is deprecated from version 1.8 and will be removed in a future version. Use 'Rescale' from mindspore.dataset.vision instead.\n",
      "[WARNING] ME(4016:2820,MainProcess):2023-06-05-11:10:57.573.540 [mindspore\\dataset\\core\\validator_helpers.py:806] 'Rescale' from mindspore.dataset.vision.c_transforms is deprecated from version 1.8 and will be removed in a future version. Use 'Rescale' from mindspore.dataset.vision instead.\n",
      "[WARNING] ME(4016:2820,MainProcess):2023-06-05-11:10:57.574.544 [mindspore\\dataset\\core\\validator_helpers.py:806] 'HWC2CHW' from mindspore.dataset.vision.c_transforms is deprecated from version 1.8 and will be removed in a future version. Use 'HWC2CHW' from mindspore.dataset.vision instead.\n",
      "[WARNING] ME(4016:2820,MainProcess):2023-06-05-11:10:57.575.539 [mindspore\\dataset\\core\\validator_helpers.py:806] 'Resize' from mindspore.dataset.vision.c_transforms is deprecated from version 1.8 and will be removed in a future version. Use 'Resize' from mindspore.dataset.vision instead.\n",
      "[WARNING] ME(4016:2820,MainProcess):2023-06-05-11:10:57.576.539 [mindspore\\dataset\\core\\validator_helpers.py:806] 'Rescale' from mindspore.dataset.vision.c_transforms is deprecated from version 1.8 and will be removed in a future version. Use 'Rescale' from mindspore.dataset.vision instead.\n",
      "[WARNING] ME(4016:2820,MainProcess):2023-06-05-11:10:57.577.539 [mindspore\\dataset\\core\\validator_helpers.py:806] 'Rescale' from mindspore.dataset.vision.c_transforms is deprecated from version 1.8 and will be removed in a future version. Use 'Rescale' from mindspore.dataset.vision instead.\n",
      "[WARNING] ME(4016:2820,MainProcess):2023-06-05-11:10:57.578.540 [mindspore\\dataset\\core\\validator_helpers.py:806] 'HWC2CHW' from mindspore.dataset.vision.c_transforms is deprecated from version 1.8 and will be removed in a future version. Use 'HWC2CHW' from mindspore.dataset.vision instead.\n"
     ]
    }
   ],
   "source": [
    "# 下载并处理MNIST数据集\n",
    "download_train = Mnist(path=\"./data\", split=\"train\", batch_size=32, repeat_num=1, shuffle=True, resize=32, download=True)\n",
    "\n",
    "download_eval = Mnist(path=\"./data\", split=\"test\", batch_size=32, resize=32, download=True)\n",
    "\n",
    "dataset_train = download_train.run()\n",
    "dataset_eval = download_eval.run()"
   ]
  },
  {
   "cell_type": "code",
   "execution_count": 7,
   "id": "92c46481",
   "metadata": {},
   "outputs": [
    {
     "name": "stdout",
     "output_type": "stream",
     "text": [
      "Epoch:[  0/ 10], step:[ 1875/ 1875], loss:[0.015/1.432], time:23.047 ms, lr:0.01000\n",
      "Epoch time: 31107.867 ms, per step time: 16.591 ms, avg loss: 1.432\n",
      "Epoch:[  1/ 10], step:[ 1875/ 1875], loss:[0.059/0.086], time:20.001 ms, lr:0.01000\n",
      "Epoch time: 32149.162 ms, per step time: 17.146 ms, avg loss: 0.086\n",
      "Epoch:[  2/ 10], step:[ 1875/ 1875], loss:[0.036/0.051], time:20.503 ms, lr:0.01000\n",
      "Epoch time: 27639.373 ms, per step time: 14.741 ms, avg loss: 0.051\n",
      "Epoch:[  3/ 10], step:[ 1875/ 1875], loss:[0.105/0.039], time:26.217 ms, lr:0.01000\n",
      "Epoch time: 29597.785 ms, per step time: 15.785 ms, avg loss: 0.039\n",
      "Epoch:[  4/ 10], step:[ 1875/ 1875], loss:[0.123/0.032], time:15.999 ms, lr:0.01000\n",
      "Epoch time: 36617.920 ms, per step time: 19.530 ms, avg loss: 0.032\n",
      "Epoch:[  5/ 10], step:[ 1875/ 1875], loss:[0.019/0.027], time:35.516 ms, lr:0.01000\n",
      "Epoch time: 38052.165 ms, per step time: 20.294 ms, avg loss: 0.027\n",
      "Epoch:[  6/ 10], step:[ 1875/ 1875], loss:[0.009/0.022], time:16.115 ms, lr:0.01000\n",
      "Epoch time: 39960.193 ms, per step time: 21.312 ms, avg loss: 0.022\n",
      "Epoch:[  7/ 10], step:[ 1875/ 1875], loss:[0.000/0.019], time:40.004 ms, lr:0.01000\n",
      "Epoch time: 32630.165 ms, per step time: 17.403 ms, avg loss: 0.019\n",
      "Epoch:[  8/ 10], step:[ 1875/ 1875], loss:[0.002/0.018], time:20.000 ms, lr:0.01000\n",
      "Epoch time: 27877.013 ms, per step time: 14.868 ms, avg loss: 0.018\n",
      "Epoch:[  9/ 10], step:[ 1875/ 1875], loss:[0.000/0.015], time:20.001 ms, lr:0.01000\n",
      "Epoch time: 26962.757 ms, per step time: 14.380 ms, avg loss: 0.015\n"
     ]
    }
   ],
   "source": [
    "network = lenet(num_classes=10, pretrained=False)\n",
    "# 定义损失函数\n",
    "net_loss = nn.SoftmaxCrossEntropyWithLogits(sparse=True, reduction='mean')\n",
    "\n",
    "# 定义优化器函数\n",
    "net_opt = nn.Momentum(network.trainable_params(), learning_rate=0.01, momentum=0.9)\n",
    "\n",
    "# 设置模型保存参数，模型训练保存参数的step为1875\n",
    "config_ck = CheckpointConfig(save_checkpoint_steps=1875, keep_checkpoint_max=10)\n",
    "\n",
    "# 应用模型保存参数\n",
    "ckpoint = ModelCheckpoint(prefix=\"lenet\", directory=\"./lenet\", config=config_ck)\n",
    "\n",
    "# 初始化模型参数\n",
    "model = Model(network, loss_fn=net_loss, optimizer=net_opt, metrics={'accuracy'})\n",
    "\n",
    "# 训练网络模型，并保存为lenet-1_1875.ckpt文件\n",
    "model.train(10, dataset_train, callbacks=[ckpoint, LossMonitor(0.01, 1875)])\n"
   ]
  },
  {
   "cell_type": "code",
   "execution_count": 10,
   "id": "37e4767f",
   "metadata": {},
   "outputs": [
    {
     "name": "stdout",
     "output_type": "stream",
     "text": [
      "the test-accuracy is {'accuracy': 0.9893830128205128}\n"
     ]
    }
   ],
   "source": [
    "acc = model.eval(dataset_eval)\n",
    "\n",
    "print(\"the test-accuracy is \"+str(acc) )\n"
   ]
  }
 ],
 "metadata": {
  "kernelspec": {
   "display_name": "Python 3 (ipykernel)",
   "language": "python",
   "name": "python3"
  },
  "language_info": {
   "codemirror_mode": {
    "name": "ipython",
    "version": 3
   },
   "file_extension": ".py",
   "mimetype": "text/x-python",
   "name": "python",
   "nbconvert_exporter": "python",
   "pygments_lexer": "ipython3",
   "version": "3.9.13"
  }
 },
 "nbformat": 4,
 "nbformat_minor": 5
}
